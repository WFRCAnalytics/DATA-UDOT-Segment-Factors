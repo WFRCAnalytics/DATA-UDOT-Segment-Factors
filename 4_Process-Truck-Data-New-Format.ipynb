{
 "cells": [
  {
   "cell_type": "code",
   "execution_count": 1,
   "metadata": {},
   "outputs": [],
   "source": [
    "import numpy as np\n",
    "import os\n",
    "import pandas as pd\n"
   ]
  },
  {
   "cell_type": "code",
   "execution_count": 2,
   "metadata": {},
   "outputs": [],
   "source": [
    "dirWork         = os.getcwd()\n",
    "dirInput        = os.path.join(dirWork, r'input'       )\n",
    "dirIntermediate = os.path.join(dirWork, r'intermediate')\n",
    "dirResults      = os.path.join(dirWork, r'results'     )\n",
    "dirParams       = os.path.join(dirWork, r'params'      )"
   ]
  },
  {
   "cell_type": "code",
   "execution_count": 3,
   "metadata": {},
   "outputs": [],
   "source": [
    "#import excel spreadsheet\n",
    "\n",
    "filename_File1 = os.path.join(dirInput, \"udot\\\\TruckTrafficOnUtahHighways\\\\Truck Traffic on Utah Highways 2017.xlsx\")\n",
    "filename_File2 = os.path.join(dirInput, \"udot\\\\TruckTrafficOnUtahHighways\\\\Truck Traffic on Utah Highways 2018.xlsx\")\n",
    "filename_File3 = os.path.join(dirInput, \"udot\\\\TruckTrafficOnUtahHighways\\\\Truck Traffic on Utah Highways 2019.xlsx\")\n",
    "filename_File4 = os.path.join(dirInput, \"udot\\\\TruckTrafficOnUtahHighways\\\\Truck Traffic on Utah Highways 2020.xlsx\")\n",
    "filename_File5 = os.path.join(dirInput, \"udot\\\\TruckTrafficOnUtahHighways\\\\Truck Traffic on Utah Highways 2021.xlsx\")\n",
    "\n",
    "xl_file1 = pd.ExcelFile(filename_File1)\n",
    "xl_file2 = pd.ExcelFile(filename_File2)\n",
    "xl_file3 = pd.ExcelFile(filename_File3)\n",
    "xl_file4 = pd.ExcelFile(filename_File4)\n",
    "xl_file5 = pd.ExcelFile(filename_File5)\n",
    "\n",
    "dfs1 = {sheet_name: xl_file1.parse(sheet_name) \n",
    "        for sheet_name in xl_file1.sheet_names}\n",
    "dfs2 = {sheet_name: xl_file2.parse(sheet_name) \n",
    "        for sheet_name in xl_file2.sheet_names}\n",
    "dfs3 = {sheet_name: xl_file3.parse(sheet_name) \n",
    "        for sheet_name in xl_file3.sheet_names}\n",
    "dfs4 = {sheet_name: xl_file4.parse(sheet_name) \n",
    "        for sheet_name in xl_file4.sheet_names}\n",
    "dfs5 = {sheet_name: xl_file5.parse(sheet_name) \n",
    "        for sheet_name in xl_file5.sheet_names}\n"
   ]
  },
  {
   "cell_type": "code",
   "execution_count": 4,
   "metadata": {},
   "outputs": [
    {
     "data": {
      "text/html": [
       "<div>\n",
       "<style scoped>\n",
       "    .dataframe tbody tr th:only-of-type {\n",
       "        vertical-align: middle;\n",
       "    }\n",
       "\n",
       "    .dataframe tbody tr th {\n",
       "        vertical-align: top;\n",
       "    }\n",
       "\n",
       "    .dataframe thead th {\n",
       "        text-align: right;\n",
       "    }\n",
       "</style>\n",
       "<table border=\"1\" class=\"dataframe\">\n",
       "  <thead>\n",
       "    <tr style=\"text-align: right;\">\n",
       "      <th></th>\n",
       "      <th>YEAR</th>\n",
       "      <th>ROUTE</th>\n",
       "      <th>BEGMP</th>\n",
       "      <th>ENDMP</th>\n",
       "      <th>DESC</th>\n",
       "      <th>AADT</th>\n",
       "      <th>SUTRK</th>\n",
       "      <th>CUTRK</th>\n",
       "      <th>SegID</th>\n",
       "    </tr>\n",
       "  </thead>\n",
       "  <tbody>\n",
       "  </tbody>\n",
       "</table>\n",
       "</div>"
      ],
      "text/plain": [
       "Empty DataFrame\n",
       "Columns: [YEAR, ROUTE, BEGMP, ENDMP, DESC, AADT, SUTRK, CUTRK, SegID]\n",
       "Index: []"
      ]
     },
     "execution_count": 4,
     "metadata": {},
     "output_type": "execute_result"
    }
   ],
   "source": [
    "dfTruckData = dfs1['Roadway'][0:0] #just copy data structure, no row data\n",
    "\n",
    "#take out of dictionary and put into single dataframe\n",
    "for key in dfs1:\n",
    "    dfs1[key]['YEAR'] = 2017\n",
    "    dfTruckData = dfTruckData.append(dfs1[key], ignore_index=True)\n",
    "for key in dfs2:\n",
    "    dfs2[key]['YEAR'] = 2018\n",
    "    dfTruckData = dfTruckData.append(dfs2[key], ignore_index=True)\n",
    "for key in dfs3:\n",
    "    dfs3[key]['YEAR'] = 2019\n",
    "    dfTruckData = dfTruckData.append(dfs3[key], ignore_index=True)\n",
    "for key in dfs4:\n",
    "    dfs4[key]['YEAR'] = 2020\n",
    "    dfTruckData = dfTruckData.append(dfs4[key], ignore_index=True)\n",
    "for key in dfs5:\n",
    "    dfs5[key]['YEAR'] = 2021\n",
    "    dfTruckData = dfTruckData.append(dfs5[key], ignore_index=True)\n",
    "        \n",
    "dfTruckData = dfTruckData.dropna()\n",
    "\n",
    "dfTruckData['YEAR'] = dfTruckData['YEAR'].astype(int)\n",
    "dfTruckData['ROUTE'] = dfTruckData['ROUTE'].apply(lambda x: '{0:0>4}'.format(x))\n",
    "dfTruckData = dfTruckData[['YEAR','ROUTE','BEGMP','ENDMP','DESC','AADT','SUTRK','CUTRK','SegID']]\n",
    "dfTruckData"
   ]
  },
  {
   "cell_type": "code",
   "execution_count": 5,
   "metadata": {},
   "outputs": [],
   "source": [
    "#export to csv\n",
    "import csv\n",
    "\n",
    "dfTruckData.to_csv(os.path.join(dirIntermediate, r'AnnualTruckDailyTraffic_NewFormat.csv'),index=False, quotechar='\"', quoting=csv.QUOTE_NONNUMERIC)"
   ]
  },
  {
   "cell_type": "code",
   "execution_count": null,
   "metadata": {},
   "outputs": [],
   "source": []
  }
 ],
 "metadata": {
  "interpreter": {
   "hash": "75725ccd9ac20bebca6cdd378b8353d816998d7cf4fc0f3797ff87c4404072a5"
  },
  "kernelspec": {
   "display_name": "Python 3",
   "language": "python",
   "name": "python3"
  },
  "language_info": {
   "codemirror_mode": {
    "name": "ipython",
    "version": 3
   },
   "file_extension": ".py",
   "mimetype": "text/x-python",
   "name": "python",
   "nbconvert_exporter": "python",
   "pygments_lexer": "ipython3",
   "version": "3.9.11"
  }
 },
 "nbformat": 4,
 "nbformat_minor": 4
}
